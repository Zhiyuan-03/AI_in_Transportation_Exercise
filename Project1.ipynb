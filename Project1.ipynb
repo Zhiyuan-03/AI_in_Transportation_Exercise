{
  "nbformat": 4,
  "nbformat_minor": 0,
  "metadata": {
    "colab": {
      "provenance": [],
      "authorship_tag": "ABX9TyNLIyLbnoMhEy9bsWmjdA1w",
      "include_colab_link": true
    },
    "kernelspec": {
      "name": "python3",
      "display_name": "Python 3"
    },
    "language_info": {
      "name": "python"
    }
  },
  "cells": [
    {
      "cell_type": "markdown",
      "metadata": {
        "id": "view-in-github",
        "colab_type": "text"
      },
      "source": [
        "<a href=\"https://colab.research.google.com/github/Zhiyuan-03/AI_in_Transportation_Exercise/blob/main/Project1.ipynb\" target=\"_parent\"><img src=\"https://colab.research.google.com/assets/colab-badge.svg\" alt=\"Open In Colab\"/></a>"
      ]
    },
    {
      "cell_type": "code",
      "source": [
        "from google.colab import files\n",
        "\n",
        "# Upload files\n",
        "uploaded = files.upload()"
      ],
      "metadata": {
        "colab": {
          "base_uri": "https://localhost:8080/",
          "height": 78
        },
        "id": "tRhEcXOmpQGN",
        "outputId": "53dae6ea-c0f6-48e2-b6c6-faabc8352689"
      },
      "execution_count": 1,
      "outputs": [
        {
          "output_type": "display_data",
          "data": {
            "text/plain": [
              "<IPython.core.display.HTML object>"
            ],
            "text/html": [
              "\n",
              "     <input type=\"file\" id=\"files-5d0e21c9-fce8-4645-b8eb-411d6ca7d5cd\" name=\"files[]\" multiple disabled\n",
              "        style=\"border:none\" />\n",
              "     <output id=\"result-5d0e21c9-fce8-4645-b8eb-411d6ca7d5cd\">\n",
              "      Upload widget is only available when the cell has been executed in the\n",
              "      current browser session. Please rerun this cell to enable.\n",
              "      </output>\n",
              "      <script>// Copyright 2017 Google LLC\n",
              "//\n",
              "// Licensed under the Apache License, Version 2.0 (the \"License\");\n",
              "// you may not use this file except in compliance with the License.\n",
              "// You may obtain a copy of the License at\n",
              "//\n",
              "//      http://www.apache.org/licenses/LICENSE-2.0\n",
              "//\n",
              "// Unless required by applicable law or agreed to in writing, software\n",
              "// distributed under the License is distributed on an \"AS IS\" BASIS,\n",
              "// WITHOUT WARRANTIES OR CONDITIONS OF ANY KIND, either express or implied.\n",
              "// See the License for the specific language governing permissions and\n",
              "// limitations under the License.\n",
              "\n",
              "/**\n",
              " * @fileoverview Helpers for google.colab Python module.\n",
              " */\n",
              "(function(scope) {\n",
              "function span(text, styleAttributes = {}) {\n",
              "  const element = document.createElement('span');\n",
              "  element.textContent = text;\n",
              "  for (const key of Object.keys(styleAttributes)) {\n",
              "    element.style[key] = styleAttributes[key];\n",
              "  }\n",
              "  return element;\n",
              "}\n",
              "\n",
              "// Max number of bytes which will be uploaded at a time.\n",
              "const MAX_PAYLOAD_SIZE = 100 * 1024;\n",
              "\n",
              "function _uploadFiles(inputId, outputId) {\n",
              "  const steps = uploadFilesStep(inputId, outputId);\n",
              "  const outputElement = document.getElementById(outputId);\n",
              "  // Cache steps on the outputElement to make it available for the next call\n",
              "  // to uploadFilesContinue from Python.\n",
              "  outputElement.steps = steps;\n",
              "\n",
              "  return _uploadFilesContinue(outputId);\n",
              "}\n",
              "\n",
              "// This is roughly an async generator (not supported in the browser yet),\n",
              "// where there are multiple asynchronous steps and the Python side is going\n",
              "// to poll for completion of each step.\n",
              "// This uses a Promise to block the python side on completion of each step,\n",
              "// then passes the result of the previous step as the input to the next step.\n",
              "function _uploadFilesContinue(outputId) {\n",
              "  const outputElement = document.getElementById(outputId);\n",
              "  const steps = outputElement.steps;\n",
              "\n",
              "  const next = steps.next(outputElement.lastPromiseValue);\n",
              "  return Promise.resolve(next.value.promise).then((value) => {\n",
              "    // Cache the last promise value to make it available to the next\n",
              "    // step of the generator.\n",
              "    outputElement.lastPromiseValue = value;\n",
              "    return next.value.response;\n",
              "  });\n",
              "}\n",
              "\n",
              "/**\n",
              " * Generator function which is called between each async step of the upload\n",
              " * process.\n",
              " * @param {string} inputId Element ID of the input file picker element.\n",
              " * @param {string} outputId Element ID of the output display.\n",
              " * @return {!Iterable<!Object>} Iterable of next steps.\n",
              " */\n",
              "function* uploadFilesStep(inputId, outputId) {\n",
              "  const inputElement = document.getElementById(inputId);\n",
              "  inputElement.disabled = false;\n",
              "\n",
              "  const outputElement = document.getElementById(outputId);\n",
              "  outputElement.innerHTML = '';\n",
              "\n",
              "  const pickedPromise = new Promise((resolve) => {\n",
              "    inputElement.addEventListener('change', (e) => {\n",
              "      resolve(e.target.files);\n",
              "    });\n",
              "  });\n",
              "\n",
              "  const cancel = document.createElement('button');\n",
              "  inputElement.parentElement.appendChild(cancel);\n",
              "  cancel.textContent = 'Cancel upload';\n",
              "  const cancelPromise = new Promise((resolve) => {\n",
              "    cancel.onclick = () => {\n",
              "      resolve(null);\n",
              "    };\n",
              "  });\n",
              "\n",
              "  // Wait for the user to pick the files.\n",
              "  const files = yield {\n",
              "    promise: Promise.race([pickedPromise, cancelPromise]),\n",
              "    response: {\n",
              "      action: 'starting',\n",
              "    }\n",
              "  };\n",
              "\n",
              "  cancel.remove();\n",
              "\n",
              "  // Disable the input element since further picks are not allowed.\n",
              "  inputElement.disabled = true;\n",
              "\n",
              "  if (!files) {\n",
              "    return {\n",
              "      response: {\n",
              "        action: 'complete',\n",
              "      }\n",
              "    };\n",
              "  }\n",
              "\n",
              "  for (const file of files) {\n",
              "    const li = document.createElement('li');\n",
              "    li.append(span(file.name, {fontWeight: 'bold'}));\n",
              "    li.append(span(\n",
              "        `(${file.type || 'n/a'}) - ${file.size} bytes, ` +\n",
              "        `last modified: ${\n",
              "            file.lastModifiedDate ? file.lastModifiedDate.toLocaleDateString() :\n",
              "                                    'n/a'} - `));\n",
              "    const percent = span('0% done');\n",
              "    li.appendChild(percent);\n",
              "\n",
              "    outputElement.appendChild(li);\n",
              "\n",
              "    const fileDataPromise = new Promise((resolve) => {\n",
              "      const reader = new FileReader();\n",
              "      reader.onload = (e) => {\n",
              "        resolve(e.target.result);\n",
              "      };\n",
              "      reader.readAsArrayBuffer(file);\n",
              "    });\n",
              "    // Wait for the data to be ready.\n",
              "    let fileData = yield {\n",
              "      promise: fileDataPromise,\n",
              "      response: {\n",
              "        action: 'continue',\n",
              "      }\n",
              "    };\n",
              "\n",
              "    // Use a chunked sending to avoid message size limits. See b/62115660.\n",
              "    let position = 0;\n",
              "    do {\n",
              "      const length = Math.min(fileData.byteLength - position, MAX_PAYLOAD_SIZE);\n",
              "      const chunk = new Uint8Array(fileData, position, length);\n",
              "      position += length;\n",
              "\n",
              "      const base64 = btoa(String.fromCharCode.apply(null, chunk));\n",
              "      yield {\n",
              "        response: {\n",
              "          action: 'append',\n",
              "          file: file.name,\n",
              "          data: base64,\n",
              "        },\n",
              "      };\n",
              "\n",
              "      let percentDone = fileData.byteLength === 0 ?\n",
              "          100 :\n",
              "          Math.round((position / fileData.byteLength) * 100);\n",
              "      percent.textContent = `${percentDone}% done`;\n",
              "\n",
              "    } while (position < fileData.byteLength);\n",
              "  }\n",
              "\n",
              "  // All done.\n",
              "  yield {\n",
              "    response: {\n",
              "      action: 'complete',\n",
              "    }\n",
              "  };\n",
              "}\n",
              "\n",
              "scope.google = scope.google || {};\n",
              "scope.google.colab = scope.google.colab || {};\n",
              "scope.google.colab._files = {\n",
              "  _uploadFiles,\n",
              "  _uploadFilesContinue,\n",
              "};\n",
              "})(self);\n",
              "</script> "
            ]
          },
          "metadata": {}
        },
        {
          "output_type": "stream",
          "name": "stdout",
          "text": [
            "Saving Dataset-PT.csv to Dataset-PT.csv\n"
          ]
        }
      ]
    },
    {
      "cell_type": "code",
      "execution_count": 2,
      "metadata": {
        "colab": {
          "base_uri": "https://localhost:8080/"
        },
        "id": "Gdbam46oojt3",
        "outputId": "88a28fd5-735b-49d9-8458-b666a50fd6e1"
      },
      "outputs": [
        {
          "output_type": "stream",
          "name": "stderr",
          "text": [
            "/tmp/ipython-input-2497303038.py:7: DtypeWarning: Columns (0,1,2,3,4,5,6,7,8,9,10,11,12,13,18,19,20,21,22,23,24,25,26,27,28,29,30) have mixed types. Specify dtype option on import or set low_memory=False.\n",
            "  df = pd.read_csv(\"Dataset-PT.csv\")   # or .parquet, .xlsx, etc.\n"
          ]
        }
      ],
      "source": [
        "import pandas as pd\n",
        "import numpy as np\n",
        "import matplotlib.pyplot as plt\n",
        "import seaborn as sns\n",
        "\n",
        "# Read the dataset\n",
        "df = pd.read_csv(\"Dataset-PT.csv\")   # or .parquet, .xlsx, etc.\n"
      ]
    },
    {
      "cell_type": "code",
      "source": [
        "# Basic structure\n",
        "print(df.info())\n",
        "print(df.head())\n",
        "\n",
        "# Summary statistics for numeric features\n",
        "print(df.describe())\n",
        "\n",
        "# Missing values\n",
        "print(df.isna().sum())\n"
      ],
      "metadata": {
        "colab": {
          "base_uri": "https://localhost:8080/"
        },
        "id": "x4Km_UTzop2K",
        "outputId": "83034d36-5512-49c7-953d-80ea47ecfca1"
      },
      "execution_count": 3,
      "outputs": [
        {
          "output_type": "stream",
          "name": "stdout",
          "text": [
            "<class 'pandas.core.frame.DataFrame'>\n",
            "RangeIndex: 545104 entries, 0 to 545103\n",
            "Data columns (total 31 columns):\n",
            " #   Column                                   Non-Null Count   Dtype \n",
            "---  ------                                   --------------   ----- \n",
            " 0   Basic information                        545104 non-null  object\n",
            " 1   Unnamed: 1                               545104 non-null  object\n",
            " 2   Unnamed: 2                               545104 non-null  object\n",
            " 3   Unnamed: 3                               545104 non-null  object\n",
            " 4   Responsible variable                     545104 non-null  object\n",
            " 5   Unnamed: 5                               545104 non-null  object\n",
            " 6   Unnamed: 6                               545104 non-null  object\n",
            " 7   Unnamed: 7                               545104 non-null  object\n",
            " 8   Unnamed: 8                               545104 non-null  object\n",
            " 9   Unnamed: 9                               545104 non-null  object\n",
            " 10  Unnamed: 10                              545104 non-null  object\n",
            " 11  Unnamed: 11                              545104 non-null  object\n",
            " 12  Unnamed: 12                              545104 non-null  object\n",
            " 13  Unnamed: 13                              545104 non-null  object\n",
            " 14  Categorical varibles                     545104 non-null  object\n",
            " 15  Unnamed: 15                              545104 non-null  object\n",
            " 16  Unnamed: 16                              545104 non-null  object\n",
            " 17  Unnamed: 17                              545104 non-null  object\n",
            " 18  Categorical variables (dummy variables)  545104 non-null  object\n",
            " 19  Unnamed: 19                              545104 non-null  object\n",
            " 20  Unnamed: 20                              545104 non-null  object\n",
            " 21  Unnamed: 21                              545104 non-null  object\n",
            " 22  Unnamed: 22                              545104 non-null  object\n",
            " 23  Unnamed: 23                              545104 non-null  object\n",
            " 24  Unnamed: 24                              545104 non-null  object\n",
            " 25  Unnamed: 25                              545104 non-null  object\n",
            " 26  Unnamed: 26                              545104 non-null  object\n",
            " 27  Unnamed: 27                              545104 non-null  object\n",
            " 28  Unnamed: 28                              545104 non-null  object\n",
            " 29  Unnamed: 29                              545104 non-null  object\n",
            " 30  Unnamed: 30                              545104 non-null  object\n",
            "dtypes: object(31)\n",
            "memory usage: 128.9+ MB\n",
            "None\n",
            "  Basic information Unnamed: 1 Unnamed: 2     Unnamed: 3 Responsible variable  \\\n",
            "0     Calendar_date   route_id     bus_id  stop_sequence        arrival_delay   \n",
            "1          20220108          4      41344              1                  151   \n",
            "2          20220108          4      41344              2                  185   \n",
            "3          20220108          4      41344              3                  186   \n",
            "4          20220108          4      41344              4                  202   \n",
            "\n",
            "   Unnamed: 5                        Unnamed: 6             Unnamed: 7  \\\n",
            "0  dwell_time  travel_time_for_previous_section  scheduled_travel_time   \n",
            "1           0                                 0                    120   \n",
            "2          24                               171                     45   \n",
            "3           0                                55                     41   \n",
            "4          12                                42                     94   \n",
            "\n",
            "            Unnamed: 8    Unnamed: 9  ...          Unnamed: 21  \\\n",
            "0  upstream_stop_delay  origin_delay  ...  factor(weather)Rain   \n",
            "1                  100           100  ...                    0   \n",
            "2                  151           100  ...                    0   \n",
            "3                  185           100  ...                    0   \n",
            "4                  186           100  ...                    0   \n",
            "\n",
            "           Unnamed: 22              Unnamed: 23  \\\n",
            "0  factor(weather)Snow  factor(temperature)Cold   \n",
            "1                    0                        0   \n",
            "2                    0                        0   \n",
            "3                    0                        0   \n",
            "4                    0                        0   \n",
            "\n",
            "                     Unnamed: 24                Unnamed: 25  \\\n",
            "0  factor(temperature)Extra_cold  factor(temperature)Normal   \n",
            "1                              0                          1   \n",
            "2                              0                          1   \n",
            "3                              0                          1   \n",
            "4                              0                          1   \n",
            "\n",
            "                  Unnamed: 26                 Unnamed: 27  \\\n",
            "0  factor(day_of_week)weekday  factor(day_of_week)weekend   \n",
            "1                           0                           1   \n",
            "2                           0                           1   \n",
            "3                           0                           1   \n",
            "4                           0                           1   \n",
            "\n",
            "                         Unnamed: 28                      Unnamed: 29  \\\n",
            "0  factor(time_of_day)Afternoon_peak  factor(time_of_day)Morning_peak   \n",
            "1                                  0                                0   \n",
            "2                                  0                                0   \n",
            "3                                  0                                0   \n",
            "4                                  0                                0   \n",
            "\n",
            "                   Unnamed: 30  \n",
            "0  factor(time_of_day)Off-peak  \n",
            "1                            1  \n",
            "2                            1  \n",
            "3                            1  \n",
            "4                            1  \n",
            "\n",
            "[5 rows x 31 columns]\n",
            "       Basic information  Unnamed: 1  Unnamed: 2  Unnamed: 3  \\\n",
            "count             545104      545104      545104      545104   \n",
            "unique               175           3         233          55   \n",
            "top             20220118           4       41343          21   \n",
            "freq                3969      512336        8883       18976   \n",
            "\n",
            "        Responsible variable  Unnamed: 5  Unnamed: 6  Unnamed: 7  Unnamed: 8  \\\n",
            "count                 545104      545104      545104      545104      545104   \n",
            "unique                  3173         622         668         174        3057   \n",
            "top                       -4           0           0          69          22   \n",
            "freq                    1859       54699       18975       22331        2127   \n",
            "\n",
            "        Unnamed: 9  ...  Unnamed: 21  Unnamed: 22  Unnamed: 23  Unnamed: 24  \\\n",
            "count       545104  ...       545104       545104       545104       545104   \n",
            "unique        1009  ...            4            4            5            4   \n",
            "top             12  ...            0            0            0            0   \n",
            "freq         12987  ...       508961       508637       457796       502562   \n",
            "\n",
            "       Unnamed: 25 Unnamed: 26 Unnamed: 27 Unnamed: 28  Unnamed: 29  \\\n",
            "count       545104      545104      545104      545104       545104   \n",
            "unique           5           5           5           5            5   \n",
            "top              1           1           0           0            0   \n",
            "freq        448022      394103      394103      404471       427799   \n",
            "\n",
            "        Unnamed: 30  \n",
            "count        545104  \n",
            "unique            5  \n",
            "top               1  \n",
            "freq         319934  \n",
            "\n",
            "[4 rows x 31 columns]\n",
            "Basic information                          0\n",
            "Unnamed: 1                                 0\n",
            "Unnamed: 2                                 0\n",
            "Unnamed: 3                                 0\n",
            "Responsible variable                       0\n",
            "Unnamed: 5                                 0\n",
            "Unnamed: 6                                 0\n",
            "Unnamed: 7                                 0\n",
            "Unnamed: 8                                 0\n",
            "Unnamed: 9                                 0\n",
            "Unnamed: 10                                0\n",
            "Unnamed: 11                                0\n",
            "Unnamed: 12                                0\n",
            "Unnamed: 13                                0\n",
            "Categorical varibles                       0\n",
            "Unnamed: 15                                0\n",
            "Unnamed: 16                                0\n",
            "Unnamed: 17                                0\n",
            "Categorical variables (dummy variables)    0\n",
            "Unnamed: 19                                0\n",
            "Unnamed: 20                                0\n",
            "Unnamed: 21                                0\n",
            "Unnamed: 22                                0\n",
            "Unnamed: 23                                0\n",
            "Unnamed: 24                                0\n",
            "Unnamed: 25                                0\n",
            "Unnamed: 26                                0\n",
            "Unnamed: 27                                0\n",
            "Unnamed: 28                                0\n",
            "Unnamed: 29                                0\n",
            "Unnamed: 30                                0\n",
            "dtype: int64\n"
          ]
        }
      ]
    },
    {
      "cell_type": "code",
      "source": [
        "cat_cols = ['day_of_week', 'time_of_day', 'weather', 'temperature']\n",
        "for col in cat_cols:\n",
        "    print(f\"\\n{col} distribution:\")\n",
        "    print(df[col].value_counts(normalize=True)*100)\n"
      ],
      "metadata": {
        "colab": {
          "base_uri": "https://localhost:8080/",
          "height": 622
        },
        "id": "kEVWsfC4osSR",
        "outputId": "84e9618c-11ef-49bb-f308-573b3d0c65f4"
      },
      "execution_count": 4,
      "outputs": [
        {
          "output_type": "stream",
          "name": "stdout",
          "text": [
            "\n",
            "day_of_week distribution:\n"
          ]
        },
        {
          "output_type": "error",
          "ename": "KeyError",
          "evalue": "'day_of_week'",
          "traceback": [
            "\u001b[0;31m---------------------------------------------------------------------------\u001b[0m",
            "\u001b[0;31mKeyError\u001b[0m                                  Traceback (most recent call last)",
            "\u001b[0;32m/usr/local/lib/python3.12/dist-packages/pandas/core/indexes/base.py\u001b[0m in \u001b[0;36mget_loc\u001b[0;34m(self, key)\u001b[0m\n\u001b[1;32m   3804\u001b[0m         \u001b[0;32mtry\u001b[0m\u001b[0;34m:\u001b[0m\u001b[0;34m\u001b[0m\u001b[0;34m\u001b[0m\u001b[0m\n\u001b[0;32m-> 3805\u001b[0;31m             \u001b[0;32mreturn\u001b[0m \u001b[0mself\u001b[0m\u001b[0;34m.\u001b[0m\u001b[0m_engine\u001b[0m\u001b[0;34m.\u001b[0m\u001b[0mget_loc\u001b[0m\u001b[0;34m(\u001b[0m\u001b[0mcasted_key\u001b[0m\u001b[0;34m)\u001b[0m\u001b[0;34m\u001b[0m\u001b[0;34m\u001b[0m\u001b[0m\n\u001b[0m\u001b[1;32m   3806\u001b[0m         \u001b[0;32mexcept\u001b[0m \u001b[0mKeyError\u001b[0m \u001b[0;32mas\u001b[0m \u001b[0merr\u001b[0m\u001b[0;34m:\u001b[0m\u001b[0;34m\u001b[0m\u001b[0;34m\u001b[0m\u001b[0m\n",
            "\u001b[0;32mindex.pyx\u001b[0m in \u001b[0;36mpandas._libs.index.IndexEngine.get_loc\u001b[0;34m()\u001b[0m\n",
            "\u001b[0;32mindex.pyx\u001b[0m in \u001b[0;36mpandas._libs.index.IndexEngine.get_loc\u001b[0;34m()\u001b[0m\n",
            "\u001b[0;32mpandas/_libs/hashtable_class_helper.pxi\u001b[0m in \u001b[0;36mpandas._libs.hashtable.PyObjectHashTable.get_item\u001b[0;34m()\u001b[0m\n",
            "\u001b[0;32mpandas/_libs/hashtable_class_helper.pxi\u001b[0m in \u001b[0;36mpandas._libs.hashtable.PyObjectHashTable.get_item\u001b[0;34m()\u001b[0m\n",
            "\u001b[0;31mKeyError\u001b[0m: 'day_of_week'",
            "\nThe above exception was the direct cause of the following exception:\n",
            "\u001b[0;31mKeyError\u001b[0m                                  Traceback (most recent call last)",
            "\u001b[0;32m/tmp/ipython-input-902136221.py\u001b[0m in \u001b[0;36m<cell line: 0>\u001b[0;34m()\u001b[0m\n\u001b[1;32m      2\u001b[0m \u001b[0;32mfor\u001b[0m \u001b[0mcol\u001b[0m \u001b[0;32min\u001b[0m \u001b[0mcat_cols\u001b[0m\u001b[0;34m:\u001b[0m\u001b[0;34m\u001b[0m\u001b[0;34m\u001b[0m\u001b[0m\n\u001b[1;32m      3\u001b[0m     \u001b[0mprint\u001b[0m\u001b[0;34m(\u001b[0m\u001b[0;34mf\"\\n{col} distribution:\"\u001b[0m\u001b[0;34m)\u001b[0m\u001b[0;34m\u001b[0m\u001b[0;34m\u001b[0m\u001b[0m\n\u001b[0;32m----> 4\u001b[0;31m     \u001b[0mprint\u001b[0m\u001b[0;34m(\u001b[0m\u001b[0mdf\u001b[0m\u001b[0;34m[\u001b[0m\u001b[0mcol\u001b[0m\u001b[0;34m]\u001b[0m\u001b[0;34m.\u001b[0m\u001b[0mvalue_counts\u001b[0m\u001b[0;34m(\u001b[0m\u001b[0mnormalize\u001b[0m\u001b[0;34m=\u001b[0m\u001b[0;32mTrue\u001b[0m\u001b[0;34m)\u001b[0m\u001b[0;34m*\u001b[0m\u001b[0;36m100\u001b[0m\u001b[0;34m)\u001b[0m\u001b[0;34m\u001b[0m\u001b[0;34m\u001b[0m\u001b[0m\n\u001b[0m",
            "\u001b[0;32m/usr/local/lib/python3.12/dist-packages/pandas/core/frame.py\u001b[0m in \u001b[0;36m__getitem__\u001b[0;34m(self, key)\u001b[0m\n\u001b[1;32m   4100\u001b[0m             \u001b[0;32mif\u001b[0m \u001b[0mself\u001b[0m\u001b[0;34m.\u001b[0m\u001b[0mcolumns\u001b[0m\u001b[0;34m.\u001b[0m\u001b[0mnlevels\u001b[0m \u001b[0;34m>\u001b[0m \u001b[0;36m1\u001b[0m\u001b[0;34m:\u001b[0m\u001b[0;34m\u001b[0m\u001b[0;34m\u001b[0m\u001b[0m\n\u001b[1;32m   4101\u001b[0m                 \u001b[0;32mreturn\u001b[0m \u001b[0mself\u001b[0m\u001b[0;34m.\u001b[0m\u001b[0m_getitem_multilevel\u001b[0m\u001b[0;34m(\u001b[0m\u001b[0mkey\u001b[0m\u001b[0;34m)\u001b[0m\u001b[0;34m\u001b[0m\u001b[0;34m\u001b[0m\u001b[0m\n\u001b[0;32m-> 4102\u001b[0;31m             \u001b[0mindexer\u001b[0m \u001b[0;34m=\u001b[0m \u001b[0mself\u001b[0m\u001b[0;34m.\u001b[0m\u001b[0mcolumns\u001b[0m\u001b[0;34m.\u001b[0m\u001b[0mget_loc\u001b[0m\u001b[0;34m(\u001b[0m\u001b[0mkey\u001b[0m\u001b[0;34m)\u001b[0m\u001b[0;34m\u001b[0m\u001b[0;34m\u001b[0m\u001b[0m\n\u001b[0m\u001b[1;32m   4103\u001b[0m             \u001b[0;32mif\u001b[0m \u001b[0mis_integer\u001b[0m\u001b[0;34m(\u001b[0m\u001b[0mindexer\u001b[0m\u001b[0;34m)\u001b[0m\u001b[0;34m:\u001b[0m\u001b[0;34m\u001b[0m\u001b[0;34m\u001b[0m\u001b[0m\n\u001b[1;32m   4104\u001b[0m                 \u001b[0mindexer\u001b[0m \u001b[0;34m=\u001b[0m \u001b[0;34m[\u001b[0m\u001b[0mindexer\u001b[0m\u001b[0;34m]\u001b[0m\u001b[0;34m\u001b[0m\u001b[0;34m\u001b[0m\u001b[0m\n",
            "\u001b[0;32m/usr/local/lib/python3.12/dist-packages/pandas/core/indexes/base.py\u001b[0m in \u001b[0;36mget_loc\u001b[0;34m(self, key)\u001b[0m\n\u001b[1;32m   3810\u001b[0m             ):\n\u001b[1;32m   3811\u001b[0m                 \u001b[0;32mraise\u001b[0m \u001b[0mInvalidIndexError\u001b[0m\u001b[0;34m(\u001b[0m\u001b[0mkey\u001b[0m\u001b[0;34m)\u001b[0m\u001b[0;34m\u001b[0m\u001b[0;34m\u001b[0m\u001b[0m\n\u001b[0;32m-> 3812\u001b[0;31m             \u001b[0;32mraise\u001b[0m \u001b[0mKeyError\u001b[0m\u001b[0;34m(\u001b[0m\u001b[0mkey\u001b[0m\u001b[0;34m)\u001b[0m \u001b[0;32mfrom\u001b[0m \u001b[0merr\u001b[0m\u001b[0;34m\u001b[0m\u001b[0;34m\u001b[0m\u001b[0m\n\u001b[0m\u001b[1;32m   3813\u001b[0m         \u001b[0;32mexcept\u001b[0m \u001b[0mTypeError\u001b[0m\u001b[0;34m:\u001b[0m\u001b[0;34m\u001b[0m\u001b[0;34m\u001b[0m\u001b[0m\n\u001b[1;32m   3814\u001b[0m             \u001b[0;31m# If we have a listlike key, _check_indexing_error will raise\u001b[0m\u001b[0;34m\u001b[0m\u001b[0;34m\u001b[0m\u001b[0m\n",
            "\u001b[0;31mKeyError\u001b[0m: 'day_of_week'"
          ]
        }
      ]
    },
    {
      "cell_type": "code",
      "source": [
        "for col in cat_cols:\n",
        "    sns.countplot(data=df, x=col)\n",
        "    plt.title(f\"{col} distribution\")\n",
        "    plt.xticks(rotation=45)\n",
        "    plt.show()\n"
      ],
      "metadata": {
        "id": "YQE7-5YaotYb"
      },
      "execution_count": null,
      "outputs": []
    },
    {
      "cell_type": "code",
      "source": [
        "num_cols = [\n",
        "    'arrival_delay','dwell_time','travel_time_for_previous_section',\n",
        "    'scheduled_travel_time','upstream_stop_delay','origin_delay',\n",
        "    'previous_bus_delay','previous_trip_travel_time',\n",
        "    'traffic_condition','recurrent_delay'\n",
        "]\n",
        "\n",
        "# Histograms & boxplots\n",
        "df[num_cols].hist(bins=40, figsize=(15,10))\n",
        "plt.tight_layout()\n",
        "plt.show()\n",
        "\n",
        "for col in num_cols:\n",
        "    sns.boxplot(x=df[col])\n",
        "    plt.title(col)\n",
        "    plt.show()\n"
      ],
      "metadata": {
        "id": "V9vSsQp1ozQa"
      },
      "execution_count": null,
      "outputs": []
    },
    {
      "cell_type": "code",
      "source": [
        "corr = df[num_cols].corr()\n",
        "plt.figure(figsize=(10,8))\n",
        "sns.heatmap(corr, annot=True, cmap=\"coolwarm\", fmt=\".2f\")\n",
        "plt.title(\"Correlation Matrix of Continuous Variables\")\n",
        "plt.show()\n"
      ],
      "metadata": {
        "id": "nvb3BaAMo0R4"
      },
      "execution_count": null,
      "outputs": []
    },
    {
      "cell_type": "code",
      "source": [
        "df.groupby('time_of_day')['arrival_delay'].describe()\n"
      ],
      "metadata": {
        "id": "Q-vvZ-1vo4ow"
      },
      "execution_count": null,
      "outputs": []
    },
    {
      "cell_type": "code",
      "source": [
        "df.groupby('weather')['arrival_delay'].mean().sort_values()\n"
      ],
      "metadata": {
        "id": "u57QiZqto_u2"
      },
      "execution_count": null,
      "outputs": []
    },
    {
      "cell_type": "code",
      "source": [
        "df.groupby('day_of_week')['arrival_delay'].mean()\n"
      ],
      "metadata": {
        "id": "I9SmsUGMpAjd"
      },
      "execution_count": null,
      "outputs": []
    },
    {
      "cell_type": "code",
      "source": [
        "df['calendar_date'] = pd.to_datetime(df['calendar_date'], format='%Y%m%d')\n",
        "daily_delay = df.groupby('calendar_date')['arrival_delay'].mean()\n",
        "daily_delay.plot(figsize=(12,4))\n",
        "plt.title(\"Average Arrival Delay Over Time\")\n",
        "plt.ylabel(\"Seconds\")\n",
        "plt.show()\n"
      ],
      "metadata": {
        "id": "M2ggOZCKpFKi"
      },
      "execution_count": null,
      "outputs": []
    },
    {
      "cell_type": "code",
      "source": [
        "for col in num_cols:\n",
        "    q1, q3 = df[col].quantile([0.25, 0.75])\n",
        "    iqr = q3 - q1\n",
        "    outliers = df[(df[col] < q1 - 1.5*iqr) | (df[col] > q3 + 1.5*iqr)]\n",
        "    print(f\"{col}: {len(outliers)} outliers\")\n"
      ],
      "metadata": {
        "id": "5TUeSpfjpH_M"
      },
      "execution_count": null,
      "outputs": []
    }
  ]
}